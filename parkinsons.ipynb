{
 "cells": [
  {
   "cell_type": "code",
   "execution_count": 1,
   "id": "ecc6fad3",
   "metadata": {},
   "outputs": [],
   "source": [
    "import pandas as pd\n",
    "import numpy as np\n",
    "import seaborn as sns\n",
    "import matplotlib.pyplot as plt\n",
    "from sklearn.metrics import mean_squared_error\n",
    "from sklearn.metrics import mean_absolute_error\n",
    "from sklearn.metrics import f1_score\n",
    "from sklearn.metrics import accuracy_score\n",
    "from sklearn.model_selection import train_test_split\n",
    "from sklearn.preprocessing import StandardScaler, LabelEncoder\n",
    "from sklearn.preprocessing import MinMaxScaler\n",
    "from sklearn.impute import KNNImputer\n",
    "from sklearn.impute import SimpleImputer\n",
    "from sklearn.dummy import DummyRegressor\n",
    "from sklearn.linear_model import LogisticRegression\n",
    "from sklearn.tree import DecisionTreeClassifier\n",
    "from sklearn.svm import SVC\n",
    "from sklearn.metrics import accuracy_score, classification_report, confusion_matrix"
   ]
  },
  {
   "cell_type": "code",
   "execution_count": 92,
   "id": "41cfad43",
   "metadata": {},
   "outputs": [
    {
     "name": "stderr",
     "output_type": "stream",
     "text": [
      "C:\\Users\\Bobi\\AppData\\Local\\Temp\\ipykernel_7084\\2660723381.py:1: DtypeWarning: Columns (1,4,6,7,10) have mixed types. Specify dtype option on import or set low_memory=False.\n",
      "  df=pd.read_csv('tappy.csv')\n"
     ]
    }
   ],
   "source": [
    "# Step 1: Load the data (assuming it's in CSV format)\n",
    "df=pd.read_csv('tappy.csv')"
   ]
  },
  {
   "cell_type": "code",
   "execution_count": 93,
   "id": "c38d4101",
   "metadata": {},
   "outputs": [
    {
     "data": {
      "text/html": [
       "<div>\n",
       "<style scoped>\n",
       "    .dataframe tbody tr th:only-of-type {\n",
       "        vertical-align: middle;\n",
       "    }\n",
       "\n",
       "    .dataframe tbody tr th {\n",
       "        vertical-align: top;\n",
       "    }\n",
       "\n",
       "    .dataframe thead th {\n",
       "        text-align: right;\n",
       "    }\n",
       "</style>\n",
       "<table border=\"1\" class=\"dataframe\">\n",
       "  <thead>\n",
       "    <tr style=\"text-align: right;\">\n",
       "      <th></th>\n",
       "      <th>userkey</th>\n",
       "      <th>date</th>\n",
       "      <th>timestamp</th>\n",
       "      <th>hand</th>\n",
       "      <th>holdtime</th>\n",
       "      <th>direction</th>\n",
       "      <th>latencytime</th>\n",
       "      <th>flighttime</th>\n",
       "      <th>BirthYear</th>\n",
       "      <th>Gender</th>\n",
       "      <th>Parkinsons</th>\n",
       "    </tr>\n",
       "  </thead>\n",
       "  <tbody>\n",
       "    <tr>\n",
       "      <th>0</th>\n",
       "      <td>pacient1-0QAZFRHQHW</td>\n",
       "      <td>160916</td>\n",
       "      <td>20:43.9</td>\n",
       "      <td>L</td>\n",
       "      <td>78.1</td>\n",
       "      <td>LL</td>\n",
       "      <td>312.5</td>\n",
       "      <td>257.8</td>\n",
       "      <td>1959.0</td>\n",
       "      <td>Female</td>\n",
       "      <td>False</td>\n",
       "    </tr>\n",
       "    <tr>\n",
       "      <th>1</th>\n",
       "      <td>pacient1-0QAZFRHQHW</td>\n",
       "      <td>160916</td>\n",
       "      <td>20:44.3</td>\n",
       "      <td>L</td>\n",
       "      <td>78.1</td>\n",
       "      <td>LL</td>\n",
       "      <td>453.1</td>\n",
       "      <td>375</td>\n",
       "      <td>1959.0</td>\n",
       "      <td>Female</td>\n",
       "      <td>False</td>\n",
       "    </tr>\n",
       "  </tbody>\n",
       "</table>\n",
       "</div>"
      ],
      "text/plain": [
       "               userkey    date timestamp hand holdtime direction latencytime  \\\n",
       "0  pacient1-0QAZFRHQHW  160916   20:43.9    L     78.1        LL       312.5   \n",
       "1  pacient1-0QAZFRHQHW  160916   20:44.3    L     78.1        LL       453.1   \n",
       "\n",
       "  flighttime  BirthYear  Gender Parkinsons  \n",
       "0      257.8     1959.0  Female      False  \n",
       "1        375     1959.0  Female      False  "
      ]
     },
     "execution_count": 93,
     "metadata": {},
     "output_type": "execute_result"
    }
   ],
   "source": [
    "df.head(2)"
   ]
  },
  {
   "cell_type": "code",
   "execution_count": 94,
   "id": "585d95f2",
   "metadata": {},
   "outputs": [
    {
     "data": {
      "text/html": [
       "<div>\n",
       "<style scoped>\n",
       "    .dataframe tbody tr th:only-of-type {\n",
       "        vertical-align: middle;\n",
       "    }\n",
       "\n",
       "    .dataframe tbody tr th {\n",
       "        vertical-align: top;\n",
       "    }\n",
       "\n",
       "    .dataframe thead th {\n",
       "        text-align: right;\n",
       "    }\n",
       "</style>\n",
       "<table border=\"1\" class=\"dataframe\">\n",
       "  <thead>\n",
       "    <tr style=\"text-align: right;\">\n",
       "      <th></th>\n",
       "      <th>userkey</th>\n",
       "      <th>date</th>\n",
       "      <th>timestamp</th>\n",
       "      <th>hand</th>\n",
       "      <th>holdtime</th>\n",
       "      <th>direction</th>\n",
       "      <th>latencytime</th>\n",
       "      <th>flighttime</th>\n",
       "      <th>BirthYear</th>\n",
       "      <th>Gender</th>\n",
       "      <th>Parkinsons</th>\n",
       "    </tr>\n",
       "  </thead>\n",
       "  <tbody>\n",
       "    <tr>\n",
       "      <th>1048573</th>\n",
       "      <td>pacient26-COK8G1W7JY</td>\n",
       "      <td>161121</td>\n",
       "      <td>27:33.0</td>\n",
       "      <td>R</td>\n",
       "      <td>66.4</td>\n",
       "      <td>RR</td>\n",
       "      <td>226.6</td>\n",
       "      <td>148.4</td>\n",
       "      <td>NaN</td>\n",
       "      <td>Male</td>\n",
       "      <td>False</td>\n",
       "    </tr>\n",
       "    <tr>\n",
       "      <th>1048574</th>\n",
       "      <td>pacient26-COK8G1W7JY</td>\n",
       "      <td>161121</td>\n",
       "      <td>27:33.3</td>\n",
       "      <td>L</td>\n",
       "      <td>78.1</td>\n",
       "      <td>RL</td>\n",
       "      <td>320.3</td>\n",
       "      <td>253.9</td>\n",
       "      <td>NaN</td>\n",
       "      <td>Male</td>\n",
       "      <td>False</td>\n",
       "    </tr>\n",
       "  </tbody>\n",
       "</table>\n",
       "</div>"
      ],
      "text/plain": [
       "                      userkey    date timestamp hand holdtime direction  \\\n",
       "1048573  pacient26-COK8G1W7JY  161121   27:33.0    R     66.4        RR   \n",
       "1048574  pacient26-COK8G1W7JY  161121   27:33.3    L     78.1        RL   \n",
       "\n",
       "        latencytime flighttime  BirthYear Gender Parkinsons  \n",
       "1048573       226.6      148.4        NaN   Male      False  \n",
       "1048574       320.3      253.9        NaN   Male      False  "
      ]
     },
     "execution_count": 94,
     "metadata": {},
     "output_type": "execute_result"
    }
   ],
   "source": [
    "df.tail(2)"
   ]
  },
  {
   "cell_type": "code",
   "execution_count": 95,
   "id": "25814de5",
   "metadata": {},
   "outputs": [
    {
     "name": "stdout",
     "output_type": "stream",
     "text": [
      "<class 'pandas.core.frame.DataFrame'>\n",
      "RangeIndex: 1048575 entries, 0 to 1048574\n",
      "Data columns (total 11 columns):\n",
      " #   Column       Non-Null Count    Dtype  \n",
      "---  ------       --------------    -----  \n",
      " 0   userkey      1048575 non-null  object \n",
      " 1   date         1048575 non-null  object \n",
      " 2   timestamp    1048575 non-null  object \n",
      " 3   hand         1048575 non-null  object \n",
      " 4   holdtime     1048575 non-null  object \n",
      " 5   direction    1048575 non-null  object \n",
      " 6   latencytime  1048575 non-null  object \n",
      " 7   flighttime   1048575 non-null  object \n",
      " 8   BirthYear    727593 non-null   float64\n",
      " 9   Gender       1048569 non-null  object \n",
      " 10  Parkinsons   1048569 non-null  object \n",
      "dtypes: float64(1), object(10)\n",
      "memory usage: 88.0+ MB\n"
     ]
    }
   ],
   "source": [
    "df.info()"
   ]
  },
  {
   "cell_type": "code",
   "execution_count": 96,
   "id": "53b4f755",
   "metadata": {},
   "outputs": [
    {
     "data": {
      "text/html": [
       "<div>\n",
       "<style scoped>\n",
       "    .dataframe tbody tr th:only-of-type {\n",
       "        vertical-align: middle;\n",
       "    }\n",
       "\n",
       "    .dataframe tbody tr th {\n",
       "        vertical-align: top;\n",
       "    }\n",
       "\n",
       "    .dataframe thead th {\n",
       "        text-align: right;\n",
       "    }\n",
       "</style>\n",
       "<table border=\"1\" class=\"dataframe\">\n",
       "  <thead>\n",
       "    <tr style=\"text-align: right;\">\n",
       "      <th></th>\n",
       "      <th>BirthYear</th>\n",
       "    </tr>\n",
       "  </thead>\n",
       "  <tbody>\n",
       "    <tr>\n",
       "      <th>count</th>\n",
       "      <td>727593.000000</td>\n",
       "    </tr>\n",
       "    <tr>\n",
       "      <th>mean</th>\n",
       "      <td>1948.673170</td>\n",
       "    </tr>\n",
       "    <tr>\n",
       "      <th>std</th>\n",
       "      <td>4.069903</td>\n",
       "    </tr>\n",
       "    <tr>\n",
       "      <th>min</th>\n",
       "      <td>1936.000000</td>\n",
       "    </tr>\n",
       "    <tr>\n",
       "      <th>25%</th>\n",
       "      <td>1946.000000</td>\n",
       "    </tr>\n",
       "    <tr>\n",
       "      <th>50%</th>\n",
       "      <td>1950.000000</td>\n",
       "    </tr>\n",
       "    <tr>\n",
       "      <th>75%</th>\n",
       "      <td>1950.000000</td>\n",
       "    </tr>\n",
       "    <tr>\n",
       "      <th>max</th>\n",
       "      <td>1967.000000</td>\n",
       "    </tr>\n",
       "  </tbody>\n",
       "</table>\n",
       "</div>"
      ],
      "text/plain": [
       "           BirthYear\n",
       "count  727593.000000\n",
       "mean     1948.673170\n",
       "std         4.069903\n",
       "min      1936.000000\n",
       "25%      1946.000000\n",
       "50%      1950.000000\n",
       "75%      1950.000000\n",
       "max      1967.000000"
      ]
     },
     "execution_count": 96,
     "metadata": {},
     "output_type": "execute_result"
    }
   ],
   "source": [
    "df.describe()"
   ]
  },
  {
   "cell_type": "code",
   "execution_count": 97,
   "id": "672e1a88",
   "metadata": {},
   "outputs": [
    {
     "data": {
      "text/plain": [
       "userkey             0\n",
       "date                0\n",
       "timestamp           0\n",
       "hand                0\n",
       "holdtime            0\n",
       "direction           0\n",
       "latencytime         0\n",
       "flighttime          0\n",
       "BirthYear      320982\n",
       "Gender              6\n",
       "Parkinsons          6\n",
       "dtype: int64"
      ]
     },
     "execution_count": 97,
     "metadata": {},
     "output_type": "execute_result"
    }
   ],
   "source": [
    "df.isnull().sum()"
   ]
  },
  {
   "cell_type": "code",
   "execution_count": 204,
   "id": "b10aee3d",
   "metadata": {},
   "outputs": [],
   "source": [
    "#df.fillna(df.mean(), inplace=True)\n"
   ]
  },
  {
   "cell_type": "code",
   "execution_count": 98,
   "id": "dc748e89",
   "metadata": {},
   "outputs": [],
   "source": [
    "# Step 2: Preprocessing the data\n",
    "df.dropna(inplace = True)"
   ]
  },
  {
   "cell_type": "code",
   "execution_count": 99,
   "id": "aa190d4e",
   "metadata": {},
   "outputs": [
    {
     "data": {
      "text/plain": [
       "userkey        0\n",
       "date           0\n",
       "timestamp      0\n",
       "hand           0\n",
       "holdtime       0\n",
       "direction      0\n",
       "latencytime    0\n",
       "flighttime     0\n",
       "BirthYear      0\n",
       "Gender         0\n",
       "Parkinsons     0\n",
       "dtype: int64"
      ]
     },
     "execution_count": 99,
     "metadata": {},
     "output_type": "execute_result"
    }
   ],
   "source": [
    "df.isnull().sum()"
   ]
  },
  {
   "cell_type": "code",
   "execution_count": 100,
   "id": "b3199c34",
   "metadata": {},
   "outputs": [],
   "source": [
    "df['Gender'] = df['Gender'].map({'Female': 0, 'Male': 1})"
   ]
  },
  {
   "cell_type": "code",
   "execution_count": 101,
   "id": "4f7fc476",
   "metadata": {},
   "outputs": [],
   "source": [
    "df['hand'] = df['hand'].map({'L': 0, 'R': 1})"
   ]
  },
  {
   "cell_type": "code",
   "execution_count": 102,
   "id": "3b450f65",
   "metadata": {},
   "outputs": [
    {
     "data": {
      "text/plain": [
       "array([False, True, 'FALSE', 'TRUE', 'True '], dtype=object)"
      ]
     },
     "execution_count": 102,
     "metadata": {},
     "output_type": "execute_result"
    }
   ],
   "source": [
    "df['Parkinsons'].unique()"
   ]
  },
  {
   "cell_type": "code",
   "execution_count": 103,
   "id": "eba1286e",
   "metadata": {},
   "outputs": [],
   "source": [
    "def mapping_parkinsons(x):\n",
    "    # If the value is a boolean, return 1 for True and 0 for False\n",
    "    if isinstance(x, bool):\n",
    "        return int(x)  # True becomes 1, False becomes 0\n",
    "    # For string values, normalize them to lowercase and strip spaces\n",
    "    x = str(x).strip().lower()\n",
    "    \n",
    "    if x == 'false':\n",
    "        return 0\n",
    "    elif x == 'true':\n",
    "        return 1\n",
    "    else:\n",
    "        return None  # Optional: handle invalid cases\n",
    "    \n",
    "    # Apply the function to the 'Parkinsons' column\n",
    "df['Parkinsons'] = df['Parkinsons'].apply(mapping_parkinsons)"
   ]
  },
  {
   "cell_type": "code",
   "execution_count": 104,
   "id": "4600e53d",
   "metadata": {},
   "outputs": [],
   "source": [
    "# Convert 'holdtime' to numeric, coercing errors to NaN\n",
    "df['holdtime'] = pd.to_numeric(df['holdtime'], errors='coerce')\n",
    "\n",
    "# Fill NaN values with a default value, e.g., 0\n",
    "df['holdtime'].fillna(0, inplace=True)\n",
    "\n",
    "# Round the values and convert to integers\n",
    "df['holdtime'] = df['holdtime'].round().astype(int)"
   ]
  },
  {
   "cell_type": "code",
   "execution_count": 105,
   "id": "e14f19c9",
   "metadata": {},
   "outputs": [],
   "source": [
    "# Convert 'holdtime' to numeric, coercing errors to NaN\n",
    "df['latencytime'] = pd.to_numeric(df['latencytime'], errors='coerce')\n",
    "\n",
    "# Fill NaN values with a default value, e.g., 0\n",
    "df['latencytime'].fillna(0, inplace=True)\n",
    "\n",
    "# Round the values and convert to integers\n",
    "df['latencytime'] = df['latencytime'].round().astype(int)"
   ]
  },
  {
   "cell_type": "code",
   "execution_count": 106,
   "id": "fb5ebc6c",
   "metadata": {},
   "outputs": [],
   "source": [
    "# Convert 'holdtime' to numeric, coercing errors to NaN\n",
    "df['flighttime'] = pd.to_numeric(df['flighttime'], errors='coerce')\n",
    "\n",
    "# Fill NaN values with a default value, e.g., 0\n",
    "df['flighttime'].fillna(0, inplace=True)\n",
    "\n",
    "# Round the values and convert to integers\n",
    "df['flighttime'] = df['flighttime'].round().astype(int)"
   ]
  },
  {
   "cell_type": "code",
   "execution_count": 107,
   "id": "1ab5f954",
   "metadata": {},
   "outputs": [],
   "source": [
    "# Convert the 'timestamp' column to a datetime object\n",
    "df['timestamp'] = pd.to_datetime(df['timestamp'], format='%H:%M.%S', errors='coerce')\n",
    "\n",
    "# Extract the hour, minute, and second as separate features\n",
    "df['hour'] = df['timestamp'].dt.hour\n",
    "df['minute'] = df['timestamp'].dt.minute\n",
    "df['second'] = df['timestamp'].dt.second + df['timestamp'].dt.microsecond / 1e6"
   ]
  },
  {
   "cell_type": "code",
   "execution_count": 109,
   "id": "3e2d25d1",
   "metadata": {},
   "outputs": [],
   "source": [
    "label_encoder = LabelEncoder()\n",
    "df['direction'] = label_encoder.fit_transform(df['direction'])"
   ]
  },
  {
   "cell_type": "code",
   "execution_count": 128,
   "id": "02c528c1",
   "metadata": {},
   "outputs": [
    {
     "data": {
      "text/html": [
       "<div>\n",
       "<style scoped>\n",
       "    .dataframe tbody tr th:only-of-type {\n",
       "        vertical-align: middle;\n",
       "    }\n",
       "\n",
       "    .dataframe tbody tr th {\n",
       "        vertical-align: top;\n",
       "    }\n",
       "\n",
       "    .dataframe thead th {\n",
       "        text-align: right;\n",
       "    }\n",
       "</style>\n",
       "<table border=\"1\" class=\"dataframe\">\n",
       "  <thead>\n",
       "    <tr style=\"text-align: right;\">\n",
       "      <th></th>\n",
       "      <th>userkey</th>\n",
       "      <th>date</th>\n",
       "      <th>timestamp</th>\n",
       "      <th>hand</th>\n",
       "      <th>holdtime</th>\n",
       "      <th>direction</th>\n",
       "      <th>latencytime</th>\n",
       "      <th>flighttime</th>\n",
       "      <th>BirthYear</th>\n",
       "      <th>Gender</th>\n",
       "      <th>Parkinsons</th>\n",
       "      <th>hour</th>\n",
       "      <th>minute</th>\n",
       "      <th>second</th>\n",
       "    </tr>\n",
       "  </thead>\n",
       "  <tbody>\n",
       "    <tr>\n",
       "      <th>0</th>\n",
       "      <td>pacient1-0QAZFRHQHW</td>\n",
       "      <td>160916</td>\n",
       "      <td>1900-01-01 20:43:09</td>\n",
       "      <td>0</td>\n",
       "      <td>78</td>\n",
       "      <td>8</td>\n",
       "      <td>312</td>\n",
       "      <td>258</td>\n",
       "      <td>1959</td>\n",
       "      <td>0</td>\n",
       "      <td>0</td>\n",
       "      <td>20</td>\n",
       "      <td>43</td>\n",
       "      <td>9</td>\n",
       "    </tr>\n",
       "    <tr>\n",
       "      <th>1</th>\n",
       "      <td>pacient1-0QAZFRHQHW</td>\n",
       "      <td>160916</td>\n",
       "      <td>1900-01-01 20:44:03</td>\n",
       "      <td>0</td>\n",
       "      <td>78</td>\n",
       "      <td>8</td>\n",
       "      <td>453</td>\n",
       "      <td>375</td>\n",
       "      <td>1959</td>\n",
       "      <td>0</td>\n",
       "      <td>0</td>\n",
       "      <td>20</td>\n",
       "      <td>44</td>\n",
       "      <td>3</td>\n",
       "    </tr>\n",
       "    <tr>\n",
       "      <th>2</th>\n",
       "      <td>pacient1-0QAZFRHQHW</td>\n",
       "      <td>160916</td>\n",
       "      <td>1900-01-01 20:44:07</td>\n",
       "      <td>0</td>\n",
       "      <td>62</td>\n",
       "      <td>8</td>\n",
       "      <td>414</td>\n",
       "      <td>336</td>\n",
       "      <td>1959</td>\n",
       "      <td>0</td>\n",
       "      <td>0</td>\n",
       "      <td>20</td>\n",
       "      <td>44</td>\n",
       "      <td>7</td>\n",
       "    </tr>\n",
       "    <tr>\n",
       "      <th>3</th>\n",
       "      <td>pacient1-0QAZFRHQHW</td>\n",
       "      <td>160916</td>\n",
       "      <td>1900-01-01 20:45:05</td>\n",
       "      <td>0</td>\n",
       "      <td>94</td>\n",
       "      <td>8</td>\n",
       "      <td>742</td>\n",
       "      <td>680</td>\n",
       "      <td>1959</td>\n",
       "      <td>0</td>\n",
       "      <td>0</td>\n",
       "      <td>20</td>\n",
       "      <td>45</td>\n",
       "      <td>5</td>\n",
       "    </tr>\n",
       "    <tr>\n",
       "      <th>4</th>\n",
       "      <td>pacient1-0QAZFRHQHW</td>\n",
       "      <td>160916</td>\n",
       "      <td>1900-01-01 20:46:00</td>\n",
       "      <td>1</td>\n",
       "      <td>102</td>\n",
       "      <td>9</td>\n",
       "      <td>523</td>\n",
       "      <td>430</td>\n",
       "      <td>1959</td>\n",
       "      <td>0</td>\n",
       "      <td>0</td>\n",
       "      <td>20</td>\n",
       "      <td>46</td>\n",
       "      <td>0</td>\n",
       "    </tr>\n",
       "  </tbody>\n",
       "</table>\n",
       "</div>"
      ],
      "text/plain": [
       "               userkey    date           timestamp  hand  holdtime  direction  \\\n",
       "0  pacient1-0QAZFRHQHW  160916 1900-01-01 20:43:09     0        78          8   \n",
       "1  pacient1-0QAZFRHQHW  160916 1900-01-01 20:44:03     0        78          8   \n",
       "2  pacient1-0QAZFRHQHW  160916 1900-01-01 20:44:07     0        62          8   \n",
       "3  pacient1-0QAZFRHQHW  160916 1900-01-01 20:45:05     0        94          8   \n",
       "4  pacient1-0QAZFRHQHW  160916 1900-01-01 20:46:00     1       102          9   \n",
       "\n",
       "   latencytime  flighttime  BirthYear  Gender  Parkinsons  hour  minute  \\\n",
       "0          312         258       1959       0           0    20      43   \n",
       "1          453         375       1959       0           0    20      44   \n",
       "2          414         336       1959       0           0    20      44   \n",
       "3          742         680       1959       0           0    20      45   \n",
       "4          523         430       1959       0           0    20      46   \n",
       "\n",
       "   second  \n",
       "0       9  \n",
       "1       3  \n",
       "2       7  \n",
       "3       5  \n",
       "4       0  "
      ]
     },
     "execution_count": 128,
     "metadata": {},
     "output_type": "execute_result"
    }
   ],
   "source": [
    "df.head(5)"
   ]
  },
  {
   "cell_type": "code",
   "execution_count": 111,
   "id": "99043e9a",
   "metadata": {},
   "outputs": [],
   "source": [
    "# Step 3: Split the data into training and testing sets\n",
    "fetures = ['hand','holdtime','direction','latencytime','flighttime','BirthYear','Gender','Parkinsons','hour','minute','second']"
   ]
  },
  {
   "cell_type": "code",
   "execution_count": 134,
   "id": "c6d578a6",
   "metadata": {},
   "outputs": [],
   "source": [
    "df.drop(columns='timestamp', inplace=True)"
   ]
  },
  {
   "cell_type": "code",
   "execution_count": 135,
   "id": "82203f94",
   "metadata": {},
   "outputs": [],
   "source": [
    "X = df[fetures]"
   ]
  },
  {
   "cell_type": "code",
   "execution_count": 136,
   "id": "c0259d64",
   "metadata": {},
   "outputs": [],
   "source": [
    "y = df['Parkinsons']"
   ]
  },
  {
   "cell_type": "code",
   "execution_count": 137,
   "id": "b74d857d",
   "metadata": {},
   "outputs": [],
   "source": [
    "X_train, X_test, y_train, y_test = train_test_split(X, y, test_size=0.2, random_state=42)"
   ]
  },
  {
   "cell_type": "code",
   "execution_count": 138,
   "id": "c8e1c44f",
   "metadata": {},
   "outputs": [],
   "source": [
    "# Step 4: Standardize the data (optional but recommended for SVM and Logistic Regression)\n",
    "scaler = StandardScaler()\n",
    "X_train = scaler.fit_transform(X_train)\n",
    "X_test = scaler.transform(X_test)"
   ]
  },
  {
   "cell_type": "code",
   "execution_count": 139,
   "id": "6b45d979",
   "metadata": {},
   "outputs": [
    {
     "data": {
      "text/plain": [
       "userkey        object\n",
       "date           object\n",
       "hand            int32\n",
       "holdtime        int32\n",
       "direction       int32\n",
       "latencytime     int32\n",
       "flighttime      int32\n",
       "BirthYear       int32\n",
       "Gender          int64\n",
       "Parkinsons      int64\n",
       "hour            int32\n",
       "minute          int32\n",
       "second          int32\n",
       "dtype: object"
      ]
     },
     "execution_count": 139,
     "metadata": {},
     "output_type": "execute_result"
    }
   ],
   "source": [
    "df.dtypes"
   ]
  },
  {
   "cell_type": "code",
   "execution_count": 140,
   "id": "81657799",
   "metadata": {},
   "outputs": [
    {
     "name": "stdout",
     "output_type": "stream",
     "text": [
      "Error in column 'userkey': Unable to parse string \"pacient1-0QAZFRHQHW\" at position 0\n",
      "Error in column 'date': Unable to parse string \"6LB9FQABZQ\" at position 130031\n",
      "hand is numeric.\n",
      "holdtime is numeric.\n",
      "direction is numeric.\n",
      "latencytime is numeric.\n",
      "flighttime is numeric.\n",
      "BirthYear is numeric.\n",
      "Gender is numeric.\n",
      "Parkinsons is numeric.\n",
      "hour is numeric.\n",
      "minute is numeric.\n",
      "second is numeric.\n"
     ]
    }
   ],
   "source": [
    "for column in df.columns:\n",
    "    try:\n",
    "        # Try converting the column to numeric\n",
    "        pd.to_numeric(df[column])\n",
    "        print(f\"{column} is numeric.\")\n",
    "    except ValueError as e:\n",
    "        print(f\"Error in column '{column}': {e}\")"
   ]
  },
  {
   "cell_type": "code",
   "execution_count": 118,
   "id": "414b40d0",
   "metadata": {},
   "outputs": [
    {
     "name": "stdout",
     "output_type": "stream",
     "text": [
      "125381\n"
     ]
    }
   ],
   "source": [
    "# Check if there are NaN values in the 'hand' column\n",
    "print(df['hand'].isna().sum())\n",
    "\n",
    "# Fill NaN values in the 'hand' column with a default value (e.g., 0 or another appropriate value)\n",
    "df['hand'].fillna(0, inplace=True)\n",
    "\n",
    "# Convert the 'hand' column to integers\n",
    "df['hand'] = df['hand'].astype(int)"
   ]
  },
  {
   "cell_type": "code",
   "execution_count": 119,
   "id": "9dda6868",
   "metadata": {},
   "outputs": [
    {
     "name": "stdout",
     "output_type": "stream",
     "text": [
      "0\n"
     ]
    }
   ],
   "source": [
    "# Check if there are NaN values in the 'hand' column\n",
    "print(df['BirthYear'].isna().sum())\n",
    "\n",
    "# Fill NaN values in the 'hand' column with a default value (e.g., 0 or another appropriate value)\n",
    "df['BirthYear'].fillna(0, inplace=True)\n",
    "\n",
    "# Convert the 'hand' column to integers\n",
    "df['BirthYear'] = df['BirthYear'].astype(int)"
   ]
  },
  {
   "cell_type": "code",
   "execution_count": 120,
   "id": "cce4811a",
   "metadata": {},
   "outputs": [
    {
     "name": "stdout",
     "output_type": "stream",
     "text": [
      "439468\n"
     ]
    }
   ],
   "source": [
    "# Check if there are NaN values in the 'hand' column\n",
    "print(df['hour'].isna().sum())\n",
    "\n",
    "# Fill NaN values in the 'hand' column with a default value (e.g., 0 or another appropriate value)\n",
    "df['hour'].fillna(0, inplace=True)\n",
    "\n",
    "# Convert the 'hand' column to integers\n",
    "df['hour'] = df['hour'].astype(int)"
   ]
  },
  {
   "cell_type": "code",
   "execution_count": 121,
   "id": "8c433540",
   "metadata": {},
   "outputs": [
    {
     "name": "stdout",
     "output_type": "stream",
     "text": [
      "439468\n"
     ]
    }
   ],
   "source": [
    "# Check if there are NaN values in the 'hand' column\n",
    "print(df['minute'].isna().sum())\n",
    "\n",
    "# Fill NaN values in the 'hand' column with a default value (e.g., 0 or another appropriate value)\n",
    "df['minute'].fillna(0, inplace=True)\n",
    "\n",
    "# Convert the 'hand' column to integers\n",
    "df['minute'] = df['minute'].astype(int)"
   ]
  },
  {
   "cell_type": "code",
   "execution_count": 122,
   "id": "e013313f",
   "metadata": {},
   "outputs": [
    {
     "name": "stdout",
     "output_type": "stream",
     "text": [
      "439468\n"
     ]
    }
   ],
   "source": [
    "# Check if there are NaN values in the 'hand' column\n",
    "print(df['second'].isna().sum())\n",
    "\n",
    "# Fill NaN values in the 'hand' column with a default value (e.g., 0 or another appropriate value)\n",
    "df['second'].fillna(0, inplace=True)\n",
    "\n",
    "# Convert the 'hand' column to integers\n",
    "df['second'] = df['second'].astype(int)"
   ]
  },
  {
   "cell_type": "code",
   "execution_count": 123,
   "id": "f6c56580",
   "metadata": {},
   "outputs": [
    {
     "name": "stdout",
     "output_type": "stream",
     "text": [
      "Empty DataFrame\n",
      "Columns: [userkey, date, timestamp, hand, holdtime, direction, latencytime, flighttime, BirthYear, Gender, Parkinsons, hour, minute, second]\n",
      "Index: []\n"
     ]
    }
   ],
   "source": [
    "# Check for infinity or -infinity in the DataFrame\n",
    "print(df[df.isin([np.inf, -np.inf]).any(axis=1)])"
   ]
  },
  {
   "cell_type": "code",
   "execution_count": 124,
   "id": "ab2d7a36",
   "metadata": {},
   "outputs": [],
   "source": [
    "# Replace infinity values with NaN\n",
    "df.replace([np.inf, -np.inf], np.nan, inplace=True)"
   ]
  },
  {
   "cell_type": "code",
   "execution_count": 125,
   "id": "365ca388",
   "metadata": {},
   "outputs": [],
   "source": [
    "# Select only numeric columns\n",
    "numeric_cols = df.select_dtypes(include=[np.number])\n",
    "\n",
    "# Check for extremely large values in numeric columns\n",
    "large_values = numeric_cols[(numeric_cols > np.finfo(np.float32).max).any(axis=1)]"
   ]
  },
  {
   "cell_type": "code",
   "execution_count": 141,
   "id": "14566a30",
   "metadata": {},
   "outputs": [],
   "source": [
    "dt_clf = DecisionTreeClassifier()\n",
    "dt_clf.fit(X_train, y_train)\n",
    "y_pred_dt = dt_clf.predict(X_test)"
   ]
  },
  {
   "cell_type": "code",
   "execution_count": 142,
   "id": "f69ef4ea",
   "metadata": {},
   "outputs": [
    {
     "name": "stdout",
     "output_type": "stream",
     "text": [
      "Decision Tree Accuracy: 1.0\n",
      "Classification Report:\n",
      "               precision    recall  f1-score   support\n",
      "\n",
      "           0       1.00      1.00      1.00     24891\n",
      "           1       1.00      1.00      1.00    120628\n",
      "\n",
      "    accuracy                           1.00    145519\n",
      "   macro avg       1.00      1.00      1.00    145519\n",
      "weighted avg       1.00      1.00      1.00    145519\n",
      "\n"
     ]
    }
   ],
   "source": [
    "print(\"Decision Tree Accuracy:\", accuracy_score(y_test, y_pred_dt))\n",
    "print(\"Classification Report:\\n\", classification_report(y_test, y_pred_dt))"
   ]
  },
  {
   "cell_type": "code",
   "execution_count": 143,
   "id": "f2c7adaa",
   "metadata": {},
   "outputs": [],
   "source": [
    "# Step 5: Train and evaluate a machine learning model\n",
    "# Logistic Regression\n",
    "log_reg = LogisticRegression()\n",
    "log_reg.fit(X_train, y_train)\n",
    "y_pred_log_reg = log_reg.predict(X_test)"
   ]
  },
  {
   "cell_type": "code",
   "execution_count": 144,
   "id": "bb2584f3",
   "metadata": {},
   "outputs": [
    {
     "name": "stdout",
     "output_type": "stream",
     "text": [
      "Logistic Regression Accuracy: 1.0\n",
      "Classification Report:\n",
      "               precision    recall  f1-score   support\n",
      "\n",
      "           0       1.00      1.00      1.00     24891\n",
      "           1       1.00      1.00      1.00    120628\n",
      "\n",
      "    accuracy                           1.00    145519\n",
      "   macro avg       1.00      1.00      1.00    145519\n",
      "weighted avg       1.00      1.00      1.00    145519\n",
      "\n"
     ]
    }
   ],
   "source": [
    "print(\"Logistic Regression Accuracy:\", accuracy_score(y_test, y_pred_log_reg))\n",
    "print(\"Classification Report:\\n\", classification_report(y_test, y_pred_log_reg))"
   ]
  },
  {
   "cell_type": "code",
   "execution_count": 148,
   "id": "a33d7c9d",
   "metadata": {},
   "outputs": [],
   "source": [
    "# Support Vector Classifier (SVM)\n",
    "svm_clf = SVC()\n",
    "svm_clf.fit(X_train, y_train)\n",
    "y_pred_svm = svm_clf.predict(X_test)"
   ]
  },
  {
   "cell_type": "code",
   "execution_count": 149,
   "id": "c4753c73",
   "metadata": {},
   "outputs": [
    {
     "name": "stdout",
     "output_type": "stream",
     "text": [
      "SVM Accuracy: 1.0\n"
     ]
    }
   ],
   "source": [
    "print(\"SVM Accuracy:\", accuracy_score(y_test, y_pred_svm))"
   ]
  },
  {
   "cell_type": "code",
   "execution_count": null,
   "id": "9606d9b5",
   "metadata": {},
   "outputs": [],
   "source": []
  }
 ],
 "metadata": {
  "kernelspec": {
   "display_name": "Python 3 (ipykernel)",
   "language": "python",
   "name": "python3"
  },
  "language_info": {
   "codemirror_mode": {
    "name": "ipython",
    "version": 3
   },
   "file_extension": ".py",
   "mimetype": "text/x-python",
   "name": "python",
   "nbconvert_exporter": "python",
   "pygments_lexer": "ipython3",
   "version": "3.9.13"
  }
 },
 "nbformat": 4,
 "nbformat_minor": 5
}
